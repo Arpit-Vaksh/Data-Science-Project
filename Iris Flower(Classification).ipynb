{
 "cells": [
  {
   "cell_type": "code",
   "execution_count": 54,
   "id": "0f6490c5",
   "metadata": {
    "scrolled": true
   },
   "outputs": [
    {
     "ename": "SyntaxError",
     "evalue": "invalid syntax (<ipython-input-54-8d861468d51a>, line 2)",
     "output_type": "error",
     "traceback": [
      "\u001b[1;36m  File \u001b[1;32m\"<ipython-input-54-8d861468d51a>\"\u001b[1;36m, line \u001b[1;32m2\u001b[0m\n\u001b[1;33m    Dataset: https://archive.ics.uci.edu/ml/machine-learning-databases/iris/iris.data\u001b[0m\n\u001b[1;37m                  ^\u001b[0m\n\u001b[1;31mSyntaxError\u001b[0m\u001b[1;31m:\u001b[0m invalid syntax\n"
     ]
    }
   ],
   "source": [
    "#PROJECT !: IRIS FLOWER CLASSIFICATION\n",
    "Dataset: https://archive.ics.uci.edu/ml/machine-learning-databases/iris/iris.data"
   ]
  },
  {
   "cell_type": "code",
   "execution_count": 71,
   "id": "deaa3c2a",
   "metadata": {},
   "outputs": [
    {
     "name": "stdout",
     "output_type": "stream",
     "text": [
      "(150, 5)\n",
      "    PL   PW   SL   SW       Target\n",
      "0  5.1  3.5  1.4  0.2  Iris-setosa\n",
      "1  4.9  3.0  1.4  0.2  Iris-setosa\n",
      "2  4.7  3.2  1.3  0.2  Iris-setosa\n",
      "3  4.6  3.1  1.5  0.2  Iris-setosa\n",
      "4  5.0  3.6  1.4  0.2  Iris-setosa\n"
     ]
    }
   ],
   "source": [
    "import pandas as pd\n",
    "df=pd.read_csv('iris_flower.csv',header=None)\n",
    "df.columns=['PL','PW','SL','SW','Target']\n",
    "print(df.shape)\n",
    "print(df.head())"
   ]
  },
  {
   "cell_type": "code",
   "execution_count": 72,
   "id": "057e0a5f",
   "metadata": {},
   "outputs": [
    {
     "name": "stdout",
     "output_type": "stream",
     "text": [
      "<class 'pandas.core.frame.DataFrame'>\n",
      "RangeIndex: 150 entries, 0 to 149\n",
      "Data columns (total 5 columns):\n",
      " #   Column  Non-Null Count  Dtype  \n",
      "---  ------  --------------  -----  \n",
      " 0   PL      150 non-null    float64\n",
      " 1   PW      150 non-null    float64\n",
      " 2   SL      150 non-null    float64\n",
      " 3   SW      150 non-null    float64\n",
      " 4   Target  150 non-null    object \n",
      "dtypes: float64(4), object(1)\n",
      "memory usage: 6.0+ KB\n"
     ]
    }
   ],
   "source": [
    "#step_1\n",
    "df.info()"
   ]
  },
  {
   "cell_type": "code",
   "execution_count": 73,
   "id": "99bef6e5",
   "metadata": {},
   "outputs": [
    {
     "data": {
      "text/plain": [
       "Iris-virginica     50\n",
       "Iris-versicolor    50\n",
       "Iris-setosa        50\n",
       "Name: Target, dtype: int64"
      ]
     },
     "execution_count": 73,
     "metadata": {},
     "output_type": "execute_result"
    }
   ],
   "source": [
    "df['Target'].value_counts()"
   ]
  },
  {
   "cell_type": "code",
   "execution_count": 74,
   "id": "0063ed11",
   "metadata": {},
   "outputs": [
    {
     "data": {
      "text/plain": [
       "0    50\n",
       "1    50\n",
       "2    50\n",
       "Name: Target, dtype: int64"
      ]
     },
     "execution_count": 74,
     "metadata": {},
     "output_type": "execute_result"
    }
   ],
   "source": [
    "dict={'Iris-setosa':0,'Iris-versicolor':1,'Iris-virginica':2}\n",
    "df1=df\n",
    "df1['Target']=df1['Target'].map(dict)\n",
    "df1['Target'].value_counts()"
   ]
  },
  {
   "cell_type": "code",
   "execution_count": 56,
   "id": "1d41db24",
   "metadata": {},
   "outputs": [
    {
     "name": "stdout",
     "output_type": "stream",
     "text": [
      "(150, 4)\n",
      "(150,)\n",
      "[0 0 0 0 0 0 0 0 0 0 0 0 0 0 0 0 0 0 0 0 0 0 0 0 0 0 0 0 0 0 0 0 0 0 0 0 0\n",
      " 0 0 0 0 0 0 0 0 0 0 0 0 0 1 1 1 1 1 1 1 1 1 1 1 1 1 1 1 1 1 1 1 1 1 1 1 1\n",
      " 1 1 1 1 1 1 1 1 1 1 1 1 1 1 1 1 1 1 1 1 1 1 1 1 1 1 2 2 2 2 2 2 2 2 2 2 2\n",
      " 2 2 2 2 2 2 2 2 2 2 2 2 2 2 2 2 2 2 2 2 2 2 2 2 2 2 2 2 2 2 2 2 2 2 2 2 2\n",
      " 2 2]\n"
     ]
    }
   ],
   "source": [
    "from sklearn.datasets import load_iris #dummy data set\n",
    "data=load_iris()\n",
    "x=data.data\n",
    "y=data.target\n",
    "print(x.shape)\n",
    "print(y.shape)\n",
    "print(y)"
   ]
  },
  {
   "cell_type": "code",
   "execution_count": 57,
   "id": "6c771970",
   "metadata": {},
   "outputs": [
    {
     "name": "stdout",
     "output_type": "stream",
     "text": [
      "50\n",
      "50\n",
      "50\n"
     ]
    }
   ],
   "source": [
    "print((y==0).sum())\n",
    "print((y==1).sum())\n",
    "print((y==2).sum())"
   ]
  },
  {
   "cell_type": "code",
   "execution_count": 58,
   "id": "238ae658",
   "metadata": {},
   "outputs": [
    {
     "name": "stdout",
     "output_type": "stream",
     "text": [
      "[0 1 2]\n"
     ]
    }
   ],
   "source": [
    "import numpy as np\n",
    "print(np.unique(y))"
   ]
  },
  {
   "cell_type": "code",
   "execution_count": 59,
   "id": "7ff7d79e",
   "metadata": {},
   "outputs": [
    {
     "name": "stdout",
     "output_type": "stream",
     "text": [
      "(150, 4)\n",
      "(105, 4)\n",
      "(45, 4)\n"
     ]
    }
   ],
   "source": [
    "#STEP 2: Train , Test, Split\n",
    "from sklearn.model_selection import train_test_split\n",
    "x_train,x_test,y_train,y_test=train_test_split(x,y,test_size=0.3,random_state=0)\n",
    "\n",
    "print(x.shape)\n",
    "print(x_train.shape)\n",
    "print(x_test.shape)"
   ]
  },
  {
   "cell_type": "code",
   "execution_count": 76,
   "id": "d9e9ae5c",
   "metadata": {},
   "outputs": [],
   "source": [
    "#model:Perceptron #1st binary classifier of Nueral network\n",
    "from sklearn.linear_model import Perceptron\n",
    "clf=Perceptron()\n",
    "clf.fit(x_train,y_train)\n",
    "y_train_pred=clf.predict(x_train)\n",
    "y_test_pred=clf.predict(x_test)"
   ]
  },
  {
   "cell_type": "code",
   "execution_count": 61,
   "id": "3895f5f4",
   "metadata": {},
   "outputs": [
    {
     "name": "stdout",
     "output_type": "stream",
     "text": [
      "Training Acc 0.8952380952380953\n",
      "Test Acc 0.8\n"
     ]
    }
   ],
   "source": [
    "from sklearn.metrics import accuracy_score\n",
    "train_acc=accuracy_score(y_train,y_train_pred)\n",
    "test_acc=accuracy_score(y_test,y_test_pred)\n",
    "print('Training Acc',train_acc)\n",
    "print('Test Acc',test_acc)"
   ]
  },
  {
   "cell_type": "code",
   "execution_count": 62,
   "id": "7bd10a1f",
   "metadata": {},
   "outputs": [
    {
     "name": "stdout",
     "output_type": "stream",
     "text": [
      "9\n"
     ]
    }
   ],
   "source": [
    "#number of samples misclassified\n",
    "print((y_test!=y_test_pred).sum())"
   ]
  },
  {
   "cell_type": "code",
   "execution_count": 63,
   "id": "a633cc44",
   "metadata": {
    "scrolled": true
   },
   "outputs": [
    {
     "name": "stdout",
     "output_type": "stream",
     "text": [
      "              precision    recall  f1-score   support\n",
      "\n",
      "           0       0.89      1.00      0.94        16\n",
      "           1       1.00      0.50      0.67        18\n",
      "           2       0.61      1.00      0.76        11\n",
      "\n",
      "    accuracy                           0.80        45\n",
      "   macro avg       0.83      0.83      0.79        45\n",
      "weighted avg       0.87      0.80      0.79        45\n",
      "\n"
     ]
    }
   ],
   "source": [
    "from sklearn.metrics import classification_report\n",
    "cr=classification_report(y_test,y_test_pred)\n",
    "print(cr)"
   ]
  },
  {
   "cell_type": "code",
   "execution_count": 64,
   "id": "ec0e0687",
   "metadata": {},
   "outputs": [
    {
     "name": "stdout",
     "output_type": "stream",
     "text": [
      "[[16  0  0]\n",
      " [ 2  9  7]\n",
      " [ 0  0 11]]\n"
     ]
    }
   ],
   "source": [
    "from sklearn.metrics import confusion_matrix\n",
    "cm=confusion_matrix(y_test,y_test_pred)\n",
    "print(cm)"
   ]
  },
  {
   "cell_type": "code",
   "execution_count": 65,
   "id": "0c0fa3e8",
   "metadata": {},
   "outputs": [
    {
     "data": {
      "text/plain": [
       "<AxesSubplot:>"
      ]
     },
     "execution_count": 65,
     "metadata": {},
     "output_type": "execute_result"
    },
    {
     "data": {
      "image/png": "[encoded data removed]",
      "text/plain": [
       "<Figure size 432x288 with 1 Axes>"
      ]
     },
     "metadata": {
      "needs_background": "light"
     },
     "output_type": "display_data"
    }
   ],
   "source": [
    "import seaborn as sns\n",
    "sns.heatmap(cm,annot=True,cbar=False)"
   ]
  },
  {
   "cell_type": "code",
   "execution_count": 66,
   "id": "247af6dc",
   "metadata": {},
   "outputs": [
    {
     "name": "stdout",
     "output_type": "stream",
     "text": [
      "Training Acc= 0.9809523809523809\n",
      "Testing Acc= 0.9777777777777777\n"
     ]
    }
   ],
   "source": [
    "#Model 2 LogisticRegression\n",
    "from sklearn.linear_model import LogisticRegression\n",
    "clf = LogisticRegression()\n",
    "clf.fit(x_train,y_train)\n",
    "y_train_pred = clf.predict(x_train)\n",
    "y_test_pred = clf.predict(x_test)\n",
    "from sklearn.metrics import accuracy_score\n",
    "train_acc = accuracy_score(y_train,y_train_pred)\n",
    "test_acc = accuracy_score(y_test,y_test_pred)\n",
    "print('Training Acc=', train_acc)\n",
    "print('Testing Acc=',test_acc)"
   ]
  },
  {
   "cell_type": "code",
   "execution_count": 67,
   "id": "15bd6ab2",
   "metadata": {},
   "outputs": [
    {
     "name": "stdout",
     "output_type": "stream",
     "text": [
      "Training Acc= <function accuracy_score at 0x000002600CDCCC10>\n",
      "Testing Acc= 0.9777777777777777\n"
     ]
    }
   ],
   "source": [
    "#Model 3 SVC Support VectorMAchine\n",
    "from sklearn.svm import SVC\n",
    "clf = SVC()\n",
    "clf.fit(x_train,y_train)\n",
    "y_train_pred = clf.predict(x_train)\n",
    "y_test_pred = clf.predict(x_test)\n",
    "from sklearn.metrics import accuracy_score\n",
    "train_acc = accuracy_score\n",
    "accuracy_score(y_train,y_train_pred)\n",
    "test_acc = accuracy_score(y_test,y_test_pred)\n",
    "print('Training Acc=', train_acc)\n",
    "print('Testing Acc=',test_acc)"
   ]
  },
  {
   "cell_type": "code",
   "execution_count": 68,
   "id": "2bdb8027",
   "metadata": {},
   "outputs": [
    {
     "name": "stdout",
     "output_type": "stream",
     "text": [
      "Training Acc= 0.9714285714285714\n",
      "Testing Acc= 0.9777777777777777\n"
     ]
    }
   ],
   "source": [
    "#Model 4 KNeighborsClassifier(KNN)\n",
    "from sklearn.neighbors import KNeighborsClassifier\n",
    "clf = KNeighborsClassifier()\n",
    "clf.fit(x_train,y_train)\n",
    "y_train_pred = clf.predict(x_train)\n",
    "y_test_pred = clf.predict(x_test)\n",
    "from sklearn.metrics import accuracy_score\n",
    "train_acc = accuracy_score(y_train,y_train_pred)\n",
    "test_acc = accuracy_score(y_test,y_test_pred)\n",
    "print('Training Acc=', train_acc)\n",
    "print('Testing Acc=',test_acc)"
   ]
  },
  {
   "cell_type": "code",
   "execution_count": 69,
   "id": "e878f8bd",
   "metadata": {},
   "outputs": [
    {
     "name": "stdout",
     "output_type": "stream",
     "text": [
      "{'Per': 0.8, 'LR': 0.9777777777777777, 'SVC': 0.9777777777777777, 'KNN': 0.9777777777777777, 'GNB': 1.0, 'DT': 0.9777777777777777, 'RF': 0.9777777777777777, 'BAG': 0.9777777777777777, 'ET': 0.9777777777777777, 'ADA': 0.9111111111111111, 'GBC': 0.9777777777777777, 'VT': 0.9777777777777777}\n"
     ]
    }
   ],
   "source": [
    "####Compare the performance of different Classifiers (MOdels)\n",
    "from sklearn.linear_model import Perceptron, LogisticRegression\n",
    "from sklearn.svm import SVC\n",
    "from sklearn.neighbors import KNeighborsClassifier\n",
    "from sklearn.naive_bayes import GaussianNB\n",
    "from sklearn.tree import DecisionTreeClassifier\n",
    "from sklearn.ensemble import RandomForestClassifier,BaggingClassifier\n",
    "from sklearn.ensemble import ExtraTreesClassifier, AdaBoostClassifier\n",
    "from sklearn.ensemble import GradientBoostingClassifier,VotingClassifier\n",
    "clf1 = Perceptron()\n",
    "clf2 = LogisticRegression()\n",
    "clf3 = SVC()\n",
    "clf4 = KNeighborsClassifier()\n",
    "clf5 = GaussianNB()\n",
    "clf6 = DecisionTreeClassifier()\n",
    "clf7 = RandomForestClassifier()\n",
    "clf8 = BaggingClassifier()\n",
    "clf9 = ExtraTreesClassifier()\n",
    "clf10 = AdaBoostClassifier()\n",
    "clf11= GradientBoostingClassifier()\n",
    "clf12= VotingClassifier(estimators = [('per',clf1),('dt',clf6),('ada',clf10)],voting='hard')\n",
    "clf = [clf1,clf2,clf3,clf4,clf5,clf6,clf7,clf8,clf9,clf10,clf11,clf12]\n",
    "name = ['Per','LR','SVC','KNN','GNB','DT','RF','BAG','ET','ADA','GBC','VT']\n",
    "accuracy = {}\n",
    "for model,model_name in zip(clf,name):\n",
    "    model.fit(x_train,y_train)\n",
    "    acc = accuracy_score(model.predict(x_test),y_test)\n",
    "    accuracy[model_name] = acc\n",
    "print(accuracy)"
   ]
  },
  {
   "cell_type": "code",
   "execution_count": 70,
   "id": "227cb9b3",
   "metadata": {},
   "outputs": [
    {
     "name": "stdout",
     "output_type": "stream",
     "text": [
      "Per : 0.8\n",
      "LR : 0.9777777777777777\n",
      "SVC : 0.9777777777777777\n",
      "KNN : 0.9777777777777777\n",
      "GNB : 1.0\n",
      "DT : 0.9777777777777777\n",
      "RF : 0.9777777777777777\n",
      "BAG : 0.9777777777777777\n",
      "ET : 0.9777777777777777\n",
      "ADA : 0.9111111111111111\n",
      "GBC : 0.9777777777777777\n",
      "VT : 0.9777777777777777\n"
     ]
    }
   ],
   "source": [
    "for i,j in accuracy.items():\n",
    "    print(i,':',j)"
   ]
  },
  {
   "cell_type": "code",
   "execution_count": null,
   "id": "652fcc2c",
   "metadata": {},
   "outputs": [],
   "source": []
  }
 ],
 "metadata": {
  "kernelspec": {
   "display_name": "Python 3",
   "language": "python",
   "name": "python3"
  },
  "language_info": {
   "codemirror_mode": {
    "name": "ipython",
    "version": 3
   },
   "file_extension": ".py",
   "mimetype": "text/x-python",
   "name": "python",
   "nbconvert_exporter": "python",
   "pygments_lexer": "ipython3",
   "version": "3.8.8"
  }
 },
 "nbformat": 4,
 "nbformat_minor": 5
}
